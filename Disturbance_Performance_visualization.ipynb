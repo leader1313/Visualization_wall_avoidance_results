{
 "cells": [
  {
   "cell_type": "markdown",
   "metadata": {},
   "source": [
    "# Disturbance Performance Visualization"
   ]
  },
  {
   "cell_type": "code",
   "execution_count": 1,
   "metadata": {},
   "outputs": [],
   "source": [
    "import torch\n",
    "import matplotlib.pyplot as plt\n",
    "from Utils import ID_generator\n",
    "from Comparison_models import MGP_BDI, MHGP_BC, MHGP_BDI, UGP_BDI, UHGP_BC, UHGP_BDI\n",
    "plt.style.use(\"ggplot\")"
   ]
  },
  {
   "cell_type": "markdown",
   "metadata": {},
   "source": [
    "## Table-sweep task"
   ]
  },
  {
   "cell_type": "code",
   "execution_count": 2,
   "metadata": {},
   "outputs": [],
   "source": [
    "mhgp_bdi = MHGP_BDI(dir_path=None)\n",
    "mgp_bdi = MGP_BDI(dir_path=None)\n",
    "uhgp_bdi = UHGP_BDI(dir_path=None)\n",
    "mhgp_bc = MHGP_BC(dir_path=None)"
   ]
  },
  {
   "cell_type": "code",
   "execution_count": 3,
   "metadata": {},
   "outputs": [
    {
     "data": {
      "image/png": "[encoded data removed]",
      "text/plain": [
       "<Figure size 432x288 with 1 Axes>"
      ]
     },
     "metadata": {},
     "output_type": "display_data"
    }
   ],
   "source": [
    "ID = ID_generator().now_stamp()\n",
    "bar_uhgp_bdi = plt.bar(['Uni\\nBDI'],[100.],yerr=0.,capsize = 10,color=uhgp_bdi.color)\n",
    "bar_mgp_bdi = plt.bar(['Homo\\nBDI'],[100.],yerr=0.,capsize = 10,color=mgp_bdi.color)\n",
    "bar_mhgp_bc = plt.bar(['BC'],[100.],yerr=0.,capsize = 10,color=mhgp_bc.color)\n",
    "bar_mhgp_bdi = plt.bar(['Hetero\\nBDI'],[100.],yerr=0.,capsize = 10,color=mhgp_bdi.color)\n",
    "plt.xticks(fontsize=0)\n",
    "plt.savefig(\"/Users/hanbit-o/code/Visualization_wall_avoidance_results/Figures/SweepObject/Disturbance_Performance/\"+ID+\".pdf\")"
   ]
  },
  {
   "cell_type": "markdown",
   "metadata": {},
   "source": [
    "## ObstacleAvoidance"
   ]
  },
  {
   "cell_type": "code",
   "execution_count": 4,
   "metadata": {},
   "outputs": [
    {
     "name": "stdout",
     "output_type": "stream",
     "text": [
      "dict_keys(['test_results', 'success_rate', 'Trajectories'])\n",
      "dict_keys(['test_results', 'success_rate', 'Trajectories'])\n",
      "dict_keys(['test_results', 'success_rate', 'Trajectories'])\n"
     ]
    }
   ],
   "source": [
    "mhgp_bdi = MHGP_BDI(\n",
    "    dir_path=\"/Users/hanbit-o/code/Visualization_wall_avoidance_results/Data/Result/ObstacleAvoidance/MHGP-BDI/0\")\n",
    "mhgp_bdi.demo_results(ID=\"0/20210908_201619\")\n",
    "\n",
    "# uhgp_bdi = UHGP_BDI(\n",
    "#     dir_path=\"/Users/hanbit-o/code/Visualization_wall_avoidance_results/Data/Result/ObstacleAvoidance/UHGP-BDI/0\")\n",
    "# uhgp_bdi.demo_results(ID=\"0/20210908_201619\")\n",
    "\n",
    "mgp_bdi = MGP_BDI(\n",
    "    dir_path=\"/Users/hanbit-o/code/Visualization_wall_avoidance_results/Data/Result/ObstacleAvoidance/MGP-BDI/0\")\n",
    "mgp_bdi.demo_results(ID=\"0/20210908_201008\")\n",
    "\n",
    "ugp_bdi = UGP_BDI(\n",
    "    dir_path=\"/Users/hanbit-o/code/Visualization_wall_avoidance_results/Data/Result/ObstacleAvoidance/UGP-BDI/0\")\n",
    "ugp_bdi.demo_results(ID=\"0/20210929_141804\")\n",
    "\n",
    "\n",
    "mhgp_bc = MHGP_BC(dir_path=None)\n",
    "uhgp_bc = UHGP_BC(dir_path=None)"
   ]
  },
  {
   "cell_type": "code",
   "execution_count": 5,
   "metadata": {},
   "outputs": [
    {
     "name": "stdout",
     "output_type": "stream",
     "text": [
      "{'mean': tensor(100.), 'std': tensor(0.)}\n",
      "{'mean': tensor(40.), 'std': tensor(28.2843)}\n",
      "{'mean': tensor(0.), 'std': tensor(0.)}\n"
     ]
    }
   ],
   "source": [
    "print(mhgp_bdi.success_rate)\n",
    "print(mgp_bdi.success_rate)\n",
    "print(ugp_bdi.success_rate)"
   ]
  },
  {
   "cell_type": "code",
   "execution_count": 6,
   "metadata": {},
   "outputs": [
    {
     "data": {
      "image/png": "[encoded data removed]",
      "text/plain": [
       "<Figure size 432x288 with 1 Axes>"
      ]
     },
     "metadata": {},
     "output_type": "display_data"
    }
   ],
   "source": [
    "ID = ID_generator().now_stamp()\n",
    "bar_mgp_bdi = plt.bar(['Uni\\nBDI'],[ugp_bdi.success_rate['mean']],yerr=ugp_bdi.success_rate['std'],capsize = 10,color=ugp_bdi.color)\n",
    "bar_mgp_bdi = plt.bar(['Homo\\nBDI'],[mgp_bdi.success_rate['mean']],yerr=mgp_bdi.success_rate['std'],capsize = 10,color=mgp_bdi.color)\n",
    "bar_mhgp_bc = plt.bar(['MHGP\\nBC'],[100.],yerr=0.,capsize = 10,color=mhgp_bc.color)\n",
    "bar_uhgp_bc = plt.bar(['UHGP\\nBC'],[100.],yerr=0.,capsize = 10,color=uhgp_bc.color)\n",
    "bar_mhgp_bdi = plt.bar(['Hetero\\nBDI'],[mhgp_bdi.success_rate['mean']],yerr=mhgp_bdi.success_rate['std'],capsize = 10,color=mhgp_bdi.color)\n",
    "plt.xticks(fontsize=0)\n",
    "plt.savefig(\"/Users/hanbit-o/code/Visualization_wall_avoidance_results/Figures/Obstacle_Avoidance/Disturbance_Performance/\"+ID+\".pdf\")"
   ]
  },
  {
   "cell_type": "markdown",
   "metadata": {},
   "source": [
    "## ShaftInsertion"
   ]
  },
  {
   "cell_type": "code",
   "execution_count": 7,
   "metadata": {},
   "outputs": [
    {
     "name": "stdout",
     "output_type": "stream",
     "text": [
      "dict_keys(['test_results', 'success_rate', 'Trajectories'])\n",
      "dict_keys(['test_results', 'success_rate', 'Trajectories'])\n",
      "dict_keys(['test_results', 'success_rate', 'Trajectories'])\n"
     ]
    }
   ],
   "source": [
    "mhgp_bdi = MHGP_BDI(\n",
    "dir_path=\"/Users/hanbit-o/code/Visualization_wall_avoidance_results/Data/Result/ShaftInsertion/MHGP-BDI/0\")\n",
    "mhgp_bdi.demo_results(ID=\"2/20210908demo/20210908_181345demo/_random\")\n",
    "\n",
    "# uhgp_bdi = UHGP_BDI(\n",
    "# dir_path=\"/Users/hanbit-o/code/Visualization_wall_avoidance_results/Data/Result/ShaftInsertion/UHGP-BDI/0\")\n",
    "# uhgp_bdi.demo_results(ID=\"2/20210908demo/20210908_181345demo/_random\")\n",
    "\n",
    "mgp_bdi = MGP_BDI(\n",
    "    dir_path=\"/Users/hanbit-o/code/Visualization_wall_avoidance_results/Data/Result/ShaftInsertion/MGP-BDI/0\")\n",
    "mgp_bdi.demo_results(ID=\"1/20210908_183147demo/_random\")\n",
    "\n",
    "ugp_bdi = UGP_BDI(\n",
    "    dir_path=\"/Users/hanbit-o/code/Visualization_wall_avoidance_results/Data/Result/ShaftInsertion/UGP-BDI/0\")\n",
    "ugp_bdi.demo_results(ID=\"1/20210929_144732\")\n",
    "\n",
    "mhgp_bc = MHGP_BC(dir_path=None)\n",
    "uhgp_bc = UHGP_BC(dir_path=None)\n",
    "\n"
   ]
  },
  {
   "cell_type": "code",
   "execution_count": 8,
   "metadata": {},
   "outputs": [
    {
     "name": "stdout",
     "output_type": "stream",
     "text": [
      "{'mean': tensor(80.), 'std': tensor(28.2843)}\n",
      "{'mean': tensor(20.), 'std': tensor(0.)}\n",
      "{'mean': tensor(10.), 'std': tensor(14.1421)}\n"
     ]
    }
   ],
   "source": [
    "print(mhgp_bdi.success_rate)\n",
    "print(mgp_bdi.success_rate)\n",
    "print(ugp_bdi.success_rate)"
   ]
  },
  {
   "cell_type": "code",
   "execution_count": 13,
   "metadata": {},
   "outputs": [
    {
     "data": {
      "image/png": "[encoded data removed]",
      "text/plain": [
       "<Figure size 432x288 with 1 Axes>"
      ]
     },
     "metadata": {},
     "output_type": "display_data"
    }
   ],
   "source": [
    "ID = ID_generator().now_stamp()\n",
    "bar_mgp_bdi = plt.bar(['Homo\\nBDI'],[mgp_bdi.success_rate['mean']],yerr=mgp_bdi.success_rate['std'],capsize = 10,color=mgp_bdi.color)\n",
    "bar_ugp_bdi = plt.bar(['Uni\\nBDI'],[ugp_bdi.success_rate['mean']],yerr=ugp_bdi.success_rate['std'],capsize = 10,color=ugp_bdi.color)\n",
    "bar_mhgp_bc = plt.bar(['MHGP\\nBC'],[100.],yerr=0.,capsize = 10,color=mhgp_bc.color)\n",
    "bar_uhgp_bc = plt.bar(['UHGP\\nBC'],[100.],yerr=0.,capsize = 10,color=uhgp_bc.color)\n",
    "bar_mhgp_bdi = plt.bar(['Hetero\\nBDI'],[mhgp_bdi.success_rate['mean']],yerr=mhgp_bdi.success_rate['std'],capsize = 10,color=mhgp_bdi.color)\n",
    "plt.xticks(fontsize=0)\n",
    "plt.savefig(\"/Users/hanbit-o/code/Visualization_wall_avoidance_results/Figures/ShaftInsertion/Disturbance_Performance/\"+ID+\".pdf\")"
   ]
  },
  {
   "cell_type": "code",
   "execution_count": null,
   "metadata": {},
   "outputs": [],
   "source": []
  }
 ],
 "metadata": {
  "interpreter": {
   "hash": "b2ed33ca12bab59d7baca037903e818ec5b5d3097cc538ac3a6e8184f5eda77a"
  },
  "kernelspec": {
   "display_name": "Python 3.8.3 64-bit ('3.8.3')",
   "name": "python3"
  },
  "language_info": {
   "codemirror_mode": {
    "name": "ipython",
    "version": 3
   },
   "file_extension": ".py",
   "mimetype": "text/x-python",
   "name": "python",
   "nbconvert_exporter": "python",
   "pygments_lexer": "ipython3",
   "version": "3.8.3"
  },
  "orig_nbformat": 4
 },
 "nbformat": 4,
 "nbformat_minor": 2
}