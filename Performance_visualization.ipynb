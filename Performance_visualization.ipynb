{
 "cells": [
  {
   "cell_type": "code",
   "execution_count": 70,
   "metadata": {},
   "outputs": [],
   "source": [
    "import torch\n",
    "import matplotlib.pyplot as plt\n",
    "from utils import now_stamp\n",
    "plt.style.use(\"ggplot\")"
   ]
  },
  {
   "cell_type": "code",
   "execution_count": 71,
   "metadata": {},
   "outputs": [],
   "source": [
    "class ComparisonModel:\n",
    "    def __init__(self, name='MGP-BDI', color='tomato', dir_path='/Users/hanbit-o/code/Visualization_wall_avoidance_results/Data/Result...'):\n",
    "        self.color = color\n",
    "        self.name = name\n",
    "        self.dir_path = dir_path\n",
    "        yd_string, time_string = now_stamp()\n",
    "        self.ID = yd_string + time_string\n",
    "        # e.g., dir_path = /Users/hanbit-o/code/Visualization_wall_avoidance_results/Data/Result/ObstacleAvoidance/MHGP-BDI/0\n",
    "\n",
    "    def test_results(self, ID):\n",
    "        test_dataset = torch.load(self.dir_path + '/' + ID + '/_random/test_results.pickle')\n",
    "        self.success_rate = test_dataset['success_rate']\n",
    "        self.test_results= torch.stack(test_dataset['test_results']).float()*100\n",
    "        self.success_rate['std'] = torch.stack([self.test_results[i*2:i*2+2].mean() for i in range(int(self.test_results.shape[0]/2))]).std()\n",
    "        print(test_dataset.keys())"
   ]
  },
  {
   "cell_type": "markdown",
   "metadata": {},
   "source": [
    "# ObstacleAvoidance"
   ]
  },
  {
   "cell_type": "code",
   "execution_count": 72,
   "metadata": {},
   "outputs": [
    {
     "name": "stdout",
     "output_type": "stream",
     "text": [
      "dict_keys(['test_results', 'success_rate', 'Trajectories'])\n",
      "dict_keys(['test_results', 'success_rate', 'Trajectories'])\n"
     ]
    }
   ],
   "source": [
    "mhgp_bdi = ComparisonModel(name=\"MHGP-BDI\",\n",
    "color=\"tomato\",\n",
    "dir_path=\"/Users/hanbit-o/code/Visualization_wall_avoidance_results/Data/Result/ObstacleAvoidance/MHGP-BDI/0\")\n",
    "mhgp_bdi.test_results(ID=\"3/20210901_112038\")\n",
    "\n",
    "mhgp_bc = ComparisonModel(name=\"MGP-BC\",\n",
    "    color='navy',\n",
    "    dir_path=\"/Users/hanbit-o/code/Visualization_wall_avoidance_results/Data/Result/ObstacleAvoidance/MHGP-BC/0\")\n",
    "mhgp_bc.test_results(ID=\"3/20210901_113538\")"
   ]
  },
  {
   "cell_type": "code",
   "execution_count": 73,
   "metadata": {},
   "outputs": [
    {
     "name": "stdout",
     "output_type": "stream",
     "text": [
      "{'mean': tensor(100.), 'std': tensor(0.)}\n",
      "{'mean': tensor(70.), 'std': tensor(27.3861)}\n"
     ]
    }
   ],
   "source": [
    "print(mhgp_bdi.success_rate)\n",
    "print(mhgp_bc.success_rate)"
   ]
  },
  {
   "cell_type": "code",
   "execution_count": 96,
   "metadata": {},
   "outputs": [
    {
     "data": {
      "image/png": "[encoded data removed]",
      "text/plain": [
       "<Figure size 360x504 with 1 Axes>"
      ]
     },
     "metadata": {},
     "output_type": "display_data"
    }
   ],
   "source": [
    "plt.figure(figsize=(5,7))\n",
    "bar_mgp_bdi = plt.bar([\"MGP\"],[torch.zeros(1)],yerr=torch.zeros(1),capsize = 10,color=\"black\")\n",
    "bar_mhgp_bc = plt.bar([mhgp_bc.name],[mhgp_bc.success_rate['mean']],yerr=mhgp_bc.success_rate['std'],capsize = 10,color=mhgp_bc.color)\n",
    "bar_mhgp_bdi = plt.bar([mhgp_bdi.name],[mhgp_bdi.success_rate['mean']],yerr=mhgp_bdi.success_rate['std'],capsize = 10,color=mhgp_bdi.color)\n",
    "plt.xticks(fontsize=0)\n",
    "plt.savefig(\"/Users/hanbit-o/code/Visualization_wall_avoidance_results/Figures/Obstacle_Avoidance/Performance/\"+mhgp_bc.ID+\".png\")"
   ]
  },
  {
   "cell_type": "markdown",
   "metadata": {},
   "source": [
    "# "
   ]
  },
  {
   "cell_type": "markdown",
   "metadata": {},
   "source": [
    "# ShaftInsertion"
   ]
  },
  {
   "cell_type": "code",
   "execution_count": 76,
   "metadata": {},
   "outputs": [
    {
     "name": "stdout",
     "output_type": "stream",
     "text": [
      "dict_keys(['test_results', 'success_rate', 'Trajectories'])\n",
      "dict_keys(['test_results', 'success_rate', 'Trajectories'])\n"
     ]
    }
   ],
   "source": [
    "mhgp_bdi = ComparisonModel(name=\"MHGP-BDI\",\n",
    "color=\"tomato\",\n",
    "dir_path=\"/Users/hanbit-o/code/Visualization_wall_avoidance_results/Data/Result/ShaftInsertion/MHGP-BDI/0\")\n",
    "mhgp_bdi.test_results(ID=\"5/20210831_185113\")\n",
    "\n",
    "mhgp_bc = ComparisonModel(name=\"MGP-BC\",\n",
    "    color='navy',\n",
    "    dir_path=\"/Users/hanbit-o/code/Visualization_wall_avoidance_results/Data/Result/ShaftInsertion/MHGP-BC/0\")\n",
    "mhgp_bc.test_results(ID=\"5/20210831_184520\")"
   ]
  },
  {
   "cell_type": "code",
   "execution_count": 77,
   "metadata": {},
   "outputs": [
    {
     "name": "stdout",
     "output_type": "stream",
     "text": [
      "{'mean': tensor(100.), 'std': tensor(0.)}\n",
      "{'mean': tensor(70.), 'std': tensor(27.3861)}\n"
     ]
    }
   ],
   "source": [
    "print(mhgp_bdi.success_rate)\n",
    "print(mhgp_bc.success_rate)"
   ]
  },
  {
   "cell_type": "code",
   "execution_count": 79,
   "metadata": {},
   "outputs": [
    {
     "data": {
      "image/png": "[encoded data removed]",
      "text/plain": [
       "<Figure size 432x288 with 1 Axes>"
      ]
     },
     "metadata": {},
     "output_type": "display_data"
    }
   ],
   "source": [
    "bar_mhgp_bc = plt.bar([mhgp_bc.name],[mhgp_bc.success_rate['mean']],yerr=mhgp_bc.success_rate['std'],capsize = 10,color=mhgp_bc.color)\n",
    "bar_mhgp_bdi = plt.bar([mhgp_bdi.name],[mhgp_bdi.success_rate['mean']],yerr=mhgp_bdi.success_rate['std'],capsize = 10,color=mhgp_bdi.color)\n",
    "plt.savefig(\"/Users/hanbit-o/code/Visualization_wall_avoidance_results/Figures/ShaftInsertion/Performance/\"+mhgp_bc.ID+\".png\")"
   ]
  },
  {
   "cell_type": "code",
   "execution_count": null,
   "metadata": {},
   "outputs": [],
   "source": []
  }
 ],
 "metadata": {
  "interpreter": {
   "hash": "b2ed33ca12bab59d7baca037903e818ec5b5d3097cc538ac3a6e8184f5eda77a"
  },
  "kernelspec": {
   "display_name": "Python 3.8.3 64-bit ('3.8.3': pyenv)",
   "name": "python3"
  },
  "language_info": {
   "codemirror_mode": {
    "name": "ipython",
    "version": 3
   },
   "file_extension": ".py",
   "mimetype": "text/x-python",
   "name": "python",
   "nbconvert_exporter": "python",
   "pygments_lexer": "ipython3",
   "version": "3.8.3"
  },
  "orig_nbformat": 4
 },
 "nbformat": 4,
 "nbformat_minor": 2
}