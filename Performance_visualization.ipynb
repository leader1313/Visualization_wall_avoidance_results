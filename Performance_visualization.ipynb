{
 "cells": [
  {
   "cell_type": "markdown",
   "metadata": {},
   "source": [
    "# Test Performance"
   ]
  },
  {
   "cell_type": "code",
   "execution_count": 18,
   "metadata": {},
   "outputs": [],
   "source": [
    "import torch\n",
    "import matplotlib.pyplot as plt\n",
    "from Utils import ID_generator\n",
    "from Comparison_models import MGP_BDI, MHGP_BC, MHGP_BDI, UGP_BDI, UHGP_BC, UHGP_BDI\n",
    "plt.style.use(\"ggplot\")"
   ]
  },
  {
   "cell_type": "markdown",
   "metadata": {},
   "source": [
    "## SweepObjects"
   ]
  },
  {
   "cell_type": "code",
   "execution_count": 8,
   "metadata": {},
   "outputs": [
    {
     "name": "stdout",
     "output_type": "stream",
     "text": [
      "dict_keys(['test_results', 'success_rate', 'Trajectories'])\n",
      "dict_keys(['test_results', 'success_rate', 'Trajectories'])\n",
      "dict_keys(['test_results', 'success_rate', 'Trajectories'])\n",
      "dict_keys(['test_results', 'success_rate', 'Trajectories'])\n",
      "dict_keys(['test_results', 'success_rate', 'Trajectories'])\n",
      "dict_keys(['test_results', 'success_rate', 'Trajectories'])\n"
     ]
    }
   ],
   "source": [
    "mhgp_bdi = MHGP_BDI(\n",
    "dir_path=\"/Users/hanbit-o/code/Visualization_wall_avoidance_results/Data/Result/SweepObject/MHGP-BDI/0\")\n",
    "mhgp_bdi.test_results(ID=\"3/20210928_092541\")\n",
    "\n",
    "uhgp_bdi = UHGP_BDI(\n",
    "dir_path=\"/Users/hanbit-o/code/Visualization_wall_avoidance_results/Data/Result/SweepObject/UHGP-BDI/0\")\n",
    "uhgp_bdi.test_results(ID=\"3/20210928_10533\")\n",
    "\n",
    "mgp_bdi = MGP_BDI(\n",
    "    dir_path=\"/Users/hanbit-o/code/Visualization_wall_avoidance_results/Data/Result/SweepObject/MGP-BDI/0\")\n",
    "mgp_bdi.test_results(ID=\"3/20210825_154724\")\n",
    "\n",
    "ugp_bdi = UGP_BDI(\n",
    "    dir_path=\"/Users/hanbit-o/code/Visualization_wall_avoidance_results/Data/Result/SweepObject/UGP-BDI/0\")\n",
    "ugp_bdi.test_results(ID=\"3/20210927_150723\")\n",
    "\n",
    "mhgp_bc = MHGP_BC(\n",
    "    dir_path=\"/Users/hanbit-o/code/Visualization_wall_avoidance_results/Data/Result/SweepObject/MHGP-BC/0\")\n",
    "mhgp_bc.test_results(ID=\"3/20210825_150711\")\n",
    "\n",
    "uhgp_bc = UHGP_BC(\n",
    "    dir_path=\"/Users/hanbit-o/code/Visualization_wall_avoidance_results/Data/Result/SweepObject/UHGP-BC/0\")\n",
    "uhgp_bc.test_results(ID=\"3/20210928_153321\")"
   ]
  },
  {
   "cell_type": "code",
   "execution_count": 13,
   "metadata": {},
   "outputs": [
    {
     "name": "stdout",
     "output_type": "stream",
     "text": [
      "{'mean': tensor(100.), 'std': tensor(0.)}\n",
      "{'mean': tensor(0.), 'std': tensor(0.)}\n",
      "{'mean': tensor(100.), 'std': tensor(nan)}\n",
      "{'mean': tensor(0.), 'std': tensor(0.)}\n",
      "{'mean': tensor(50.), 'std': tensor(0.)}\n",
      "{'mean': tensor(0.), 'std': tensor(0.)}\n"
     ]
    }
   ],
   "source": [
    "print(mhgp_bdi.success_rate)\n",
    "print(uhgp_bdi.success_rate)\n",
    "print(mgp_bdi.success_rate)\n",
    "print(ugp_bdi.success_rate)\n",
    "print(mhgp_bc.success_rate)\n",
    "print(uhgp_bc.success_rate)"
   ]
  },
  {
   "cell_type": "code",
   "execution_count": 12,
   "metadata": {},
   "outputs": [
    {
     "name": "stderr",
     "output_type": "stream",
     "text": [
      "/Users/hanbit-o/.pyenv/versions/3.8.3/lib/python3.8/site-packages/numpy/core/_asarray.py:102: UserWarning: Warning: converting a masked element to nan.\n",
      "  return array(a, dtype, copy=False, order=order)\n"
     ]
    },
    {
     "data": {
      "image/png": "[encoded data removed]",
      "text/plain": [
       "<Figure size 432x288 with 1 Axes>"
      ]
     },
     "metadata": {},
     "output_type": "display_data"
    }
   ],
   "source": [
    "ID = ID_generator().now_stamp()\n",
    "bar_mgp_bdi = plt.bar([mgp_bdi.name],[mgp_bdi.success_rate['mean']],yerr=mgp_bdi.success_rate['std'],capsize = 10,color=mgp_bdi.color)\n",
    "bar_ugp_bdi = plt.bar([ugp_bdi.name],[ugp_bdi.success_rate['mean']],yerr=ugp_bdi.success_rate['std'],capsize = 10,color=ugp_bdi.color)\n",
    "bar_mhgp_bc = plt.bar([mhgp_bc.name],[mhgp_bc.success_rate['mean']],yerr=mhgp_bc.success_rate['std'],capsize = 10,color=mhgp_bc.color)\n",
    "bar_uhgp_bc = plt.bar([uhgp_bc.name],[uhgp_bc.success_rate['mean']],yerr=uhgp_bc.success_rate['std'],capsize = 10,color=uhgp_bc.color)\n",
    "bar_uhgp_bdi = plt.bar([uhgp_bdi.name],[uhgp_bdi.success_rate['mean']],yerr=uhgp_bdi.success_rate['std'],capsize = 10,color=uhgp_bdi.color)\n",
    "bar_mhgp_bdi = plt.bar([mhgp_bdi.name],[mhgp_bdi.success_rate['mean']],yerr=mhgp_bdi.success_rate['std'],capsize = 10,color=mhgp_bdi.color)\n",
    "plt.xticks(fontsize=0)\n",
    "plt.savefig(\"/Users/hanbit-o/code/Visualization_wall_avoidance_results/Figures/SweepObject/Performance/\"+ID+\".pdf\")"
   ]
  },
  {
   "cell_type": "markdown",
   "metadata": {},
   "source": [
    "## ObstacleAvoidance"
   ]
  },
  {
   "cell_type": "code",
   "execution_count": 4,
   "metadata": {},
   "outputs": [
    {
     "name": "stdout",
     "output_type": "stream",
     "text": [
      "dict_keys(['test_results', 'success_rate', 'Trajectories'])\n",
      "dict_keys(['test_results', 'success_rate', 'Trajectories'])\n"
     ]
    }
   ],
   "source": [
    "mhgp_bdi = MHGP_BDI(\n",
    "dir_path=\"/Users/hanbit-o/code/Visualization_wall_avoidance_results/Data/Result/ObstacleAvoidance/MHGP-BDI/0\")\n",
    "mhgp_bdi.test_results(ID=\"3/20210901_112038\")\n",
    "\n",
    "uhgp_bdi = UHGP_BDI(\n",
    "dir_path=\"/Users/hanbit-o/code/Visualization_wall_avoidance_results/Data/Result/ObstacleAvoidance/UHGP-BDI/0\")\n",
    "# uhgp_bdi.test_results(ID=\"2/20210829_130024\")\n",
    "\n",
    "mgp_bdi = MGP_BDI(\n",
    "    dir_path=\"/Users/hanbit-o/code/Visualization_wall_avoidance_results/Data/Result/ObstacleAvoidance/MGP-BDI/0\")\n",
    "# mgp_bdi.test_results(ID=\"3/20210825_154724\")\n",
    "\n",
    "ugp_bdi = UGP_BDI(\n",
    "    dir_path=\"/Users/hanbit-o/code/Visualization_wall_avoidance_results/Data/Result/ObstacleAvoidance/UGP-BDI/0\")\n",
    "# ugp_bdi.test_results(ID=\"3/20210927_150723\")\n",
    "\n",
    "mhgp_bc = MHGP_BC(\n",
    "    dir_path=\"/Users/hanbit-o/code/Visualization_wall_avoidance_results/Data/Result/ObstacleAvoidance/MHGP-BC/0\")\n",
    "mhgp_bc.test_results(ID=\"3/20210901_113538\")\n",
    "\n",
    "uhgp_bc = UHGP_BC(\n",
    "    dir_path=\"/Users/hanbit-o/code/Visualization_wall_avoidance_results/Data/Result/ObstacleAvoidance/UHGP-BC/0\")\n",
    "# uhgp_bc.test_results(ID=\"3/20210928_153321\")"
   ]
  },
  {
   "cell_type": "code",
   "execution_count": 5,
   "metadata": {},
   "outputs": [
    {
     "name": "stdout",
     "output_type": "stream",
     "text": [
      "{'mean': tensor(100.), 'std': tensor(0.)}\n",
      "{'mean': tensor(70.), 'std': tensor(10.)}\n"
     ]
    }
   ],
   "source": [
    "print(mhgp_bdi.success_rate)\n",
    "print(mhgp_bc.success_rate)"
   ]
  },
  {
   "cell_type": "code",
   "execution_count": 61,
   "metadata": {},
   "outputs": [
    {
     "name": "stderr",
     "output_type": "stream",
     "text": [
      "/Users/hanbit-o/.pyenv/versions/3.8.3/lib/python3.8/site-packages/numpy/lib/stride_tricks.py:536: FutureWarning: The input object of type 'Tensor' is an array-like implementing one of the corresponding protocols (`__array__`, `__array_interface__` or `__array_struct__`); but not a sequence (or 0-D). In the future, this object will be coerced as if it was first converted using `np.array(obj)`. To retain the old behaviour, you have to either modify the type 'Tensor', or assign to an empty array created with `np.empty(correct_shape, dtype=object)`.\n",
      "  args = [np.array(_m, copy=False, subok=subok) for _m in args]\n"
     ]
    },
    {
     "data": {
      "image/png": "[encoded data removed]",
      "text/plain": [
       "<Figure size 432x288 with 1 Axes>"
      ]
     },
     "metadata": {},
     "output_type": "display_data"
    }
   ],
   "source": [
    "ID = ID_generator().now_stamp()\n",
    "bar_mgp_bdi = plt.bar([\"MGP\"],[torch.zeros(1)],yerr=torch.zeros(1),capsize = 10,color=\"navy\")\n",
    "bar_mhgp_bc = plt.bar([mhgp_bc.name],[mhgp_bc.success_rate['mean']],yerr=mhgp_bc.success_rate['std'],capsize = 10,color=mhgp_bc.color)\n",
    "bar_mhgp_bdi = plt.bar([mhgp_bdi.name],[mhgp_bdi.success_rate['mean']],yerr=mhgp_bdi.success_rate['std'],capsize = 10,color=mhgp_bdi.color)\n",
    "plt.xticks(fontsize=0)\n",
    "plt.savefig(\"/Users/hanbit-o/code/Visualization_wall_avoidance_results/Figures/Obstacle_Avoidance/Performance/\"+ID+\".pdf\")"
   ]
  },
  {
   "cell_type": "markdown",
   "metadata": {},
   "source": [
    "## ShaftInsertion"
   ]
  },
  {
   "cell_type": "code",
   "execution_count": 2,
   "metadata": {},
   "outputs": [
    {
     "name": "stdout",
     "output_type": "stream",
     "text": [
      "dict_keys(['test_results', 'success_rate', 'Trajectories'])\n",
      "dict_keys(['test_results', 'success_rate', 'Trajectories'])\n",
      "dict_keys(['test_results', 'success_rate', 'Trajectories'])\n"
     ]
    }
   ],
   "source": [
    "mhgp_bdi = MHGP_BDI(\n",
    "# dir_path=\"/Users/hanbit-o/code/Visualization_wall_avoidance_results/Data/Result/ShaftInsertion/MHGP-BDI/0\")\n",
    "# mhgp_bdi.test_results(ID=\"5/20210831_185113\")\n",
    "dir_path=\"/Users/hanbit-o/code/Visualization_wall_avoidance_results/Data/Result/ShaftInsertion/MHGP-BDI/1\")\n",
    "mhgp_bdi.test_results(ID=\"5/20211213_185313\")\n",
    "\n",
    "uhgp_bdi = UHGP_BDI(\n",
    "dir_path=\"/Users/hanbit-o/code/Visualization_wall_avoidance_results/Data/Result/ShaftInsertion/UHGP-BDI/0\")\n",
    "uhgp_bdi.test_results(ID=\"5/20210831_185935\")\n",
    "\n",
    "mgp_bdi = MGP_BDI(\n",
    "    dir_path=\"/Users/hanbit-o/code/Visualization_wall_avoidance_results/Data/Result/ShaftInsertion/MGP-BDI/0\")\n",
    "# mgp_bdi.test_results(ID=\"3/20210825_154724\")\n",
    "\n",
    "ugp_bdi = UGP_BDI(\n",
    "    dir_path=\"/Users/hanbit-o/code/Visualization_wall_avoidance_results/Data/Result/ShaftInsertion/UGP-BDI/0\")\n",
    "# ugp_bdi.test_results(ID=\"3/20210927_150723\")\n",
    "\n",
    "mhgp_bc = MHGP_BC(\n",
    "#     dir_path=\"/Users/hanbit-o/code/Visualization_wall_avoidance_results/Data/Result/ShaftInsertion/MHGP-BC/0\")\n",
    "# mhgp_bc.test_results(ID=\"5/20210831_184520\")\n",
    "dir_path=\"/Users/hanbit-o/code/Visualization_wall_avoidance_results/Data/Result/ShaftInsertion/MHGP-BC/1\")\n",
    "mhgp_bc.test_results(ID=\"5/20211213_184326\")\n",
    "\n",
    "uhgp_bc = UHGP_BC(\n",
    "    dir_path=\"/Users/hanbit-o/code/Visualization_wall_avoidance_results/Data/Result/ShaftInsertion/UHGP-BC/0\")\n",
    "# uhgp_bc.test_results(ID=\"3/20210928_153321\")"
   ]
  },
  {
   "cell_type": "code",
   "execution_count": 3,
   "metadata": {},
   "outputs": [
    {
     "name": "stdout",
     "output_type": "stream",
     "text": [
      "{'mean': tensor(100.), 'std': tensor(0.)}\n",
      "{'mean': tensor(0.), 'std': tensor(0.)}\n",
      "{'mean': tensor(50.), 'std': tensor(30.)}\n"
     ]
    }
   ],
   "source": [
    "print(mhgp_bdi.success_rate)\n",
    "print(uhgp_bdi.success_rate)\n",
    "# print(mgp_bdi.success_rate)\n",
    "# print(ugp_bdi.success_rate)\n",
    "print(mhgp_bc.success_rate)\n",
    "# print(uhgp_bc.success_rate)"
   ]
  },
  {
   "cell_type": "code",
   "execution_count": 64,
   "metadata": {},
   "outputs": [
    {
     "name": "stderr",
     "output_type": "stream",
     "text": [
      "/Users/hanbit-o/.pyenv/versions/3.8.3/lib/python3.8/site-packages/numpy/lib/stride_tricks.py:536: FutureWarning: The input object of type 'Tensor' is an array-like implementing one of the corresponding protocols (`__array__`, `__array_interface__` or `__array_struct__`); but not a sequence (or 0-D). In the future, this object will be coerced as if it was first converted using `np.array(obj)`. To retain the old behaviour, you have to either modify the type 'Tensor', or assign to an empty array created with `np.empty(correct_shape, dtype=object)`.\n",
      "  args = [np.array(_m, copy=False, subok=subok) for _m in args]\n"
     ]
    },
    {
     "data": {
      "image/png": "[encoded data removed]",
      "text/plain": [
       "<Figure size 432x288 with 1 Axes>"
      ]
     },
     "metadata": {},
     "output_type": "display_data"
    }
   ],
   "source": [
    "ID = ID_generator().now_stamp()\n",
    "bar_mgp_bdi = plt.bar([\"MGP\"],[torch.zeros(1)],yerr=torch.zeros(1),capsize = 10,color=\"navy\")\n",
    "bar_mhgp_bc = plt.bar([mhgp_bc.name],[mhgp_bc.success_rate['mean']],yerr=mhgp_bc.success_rate['std'],capsize = 10,color=mhgp_bc.color)\n",
    "bar_mhgp_bdi = plt.bar([mhgp_bdi.name],[mhgp_bdi.success_rate['mean']],yerr=mhgp_bdi.success_rate['std'],capsize = 10,color=mhgp_bdi.color)\n",
    "plt.xticks(fontsize=0)\n",
    "plt.savefig(\"/Users/hanbit-o/code/Visualization_wall_avoidance_results/Figures/ShaftInsertion/Performance/\"+ID+\".pdf\")"
   ]
  },
  {
   "cell_type": "markdown",
   "metadata": {},
   "source": [
    "### shaft-insertion task varying 4 experts"
   ]
  },
  {
   "cell_type": "code",
   "execution_count": 19,
   "metadata": {},
   "outputs": [
    {
     "name": "stdout",
     "output_type": "stream",
     "text": [
      "SUCCESS :  2\n",
      "FAIL :  0\n",
      "dict_keys(['test_results', 'success_rate', 'Trajectories'])\n",
      "SUCCESS :  1\n",
      "FAIL :  9\n",
      "SUCCESS :  2\n",
      "FAIL :  0\n",
      "dict_keys(['test_results', 'success_rate', 'Trajectories'])\n",
      "SUCCESS :  10\n",
      "FAIL :  0\n",
      "dict_keys(['test_results', 'success_rate', 'Trajectories'])\n",
      "SUCCESS :  0\n",
      "FAIL :  10\n",
      "SUCCESS :  60\n",
      "FAIL :  0\n",
      "dict_keys(['test_results', 'success_rate', 'Trajectories'])\n",
      "SUCCESS :  10\n",
      "FAIL :  0\n",
      "dict_keys(['test_results', 'success_rate', 'Trajectories'])\n",
      "SUCCESS :  1\n",
      "FAIL :  9\n",
      "SUCCESS :  30\n",
      "FAIL :  0\n",
      "dict_keys(['test_results', 'success_rate', 'Trajectories'])\n",
      "SUCCESS :  4\n",
      "FAIL :  0\n"
     ]
    },
    {
     "ename": "RuntimeError",
     "evalue": "stack expects a non-empty TensorList",
     "output_type": "error",
     "traceback": [
      "\u001b[0;31m---------------------------------------------------------------------------\u001b[0m",
      "\u001b[0;31mRuntimeError\u001b[0m                              Traceback (most recent call last)",
      "\u001b[0;32m<ipython-input-19-9ad95c7883f5>\u001b[0m in \u001b[0;36m<module>\u001b[0;34m\u001b[0m\n\u001b[1;32m     48\u001b[0m dir_path=\"/Users/hanbit-o/code/Visualization_wall_avoidance_results/Data/Result/ShaftInsertion/20211223_BDI_shaft_insertion/Matsubara/Matsubara_MHGP-BDI/0\")\n\u001b[1;32m     49\u001b[0m \u001b[0mMB_mhgp_bdi\u001b[0m\u001b[0;34m.\u001b[0m\u001b[0mdemo_results_v2\u001b[0m\u001b[0;34m(\u001b[0m\u001b[0mID\u001b[0m\u001b[0;34m=\u001b[0m\u001b[0;34m\"2\"\u001b[0m\u001b[0;34m)\u001b[0m\u001b[0;34m\u001b[0m\u001b[0;34m\u001b[0m\u001b[0m\n\u001b[0;32m---> 50\u001b[0;31m \u001b[0mMB_mhgp_bdi\u001b[0m\u001b[0;34m.\u001b[0m\u001b[0mtest_results\u001b[0m\u001b[0;34m(\u001b[0m\u001b[0mID\u001b[0m\u001b[0;34m=\u001b[0m\u001b[0;34m\"2/20211224_115249\"\u001b[0m\u001b[0;34m)\u001b[0m\u001b[0;34m\u001b[0m\u001b[0;34m\u001b[0m\u001b[0m\n\u001b[0m\u001b[1;32m     51\u001b[0m \u001b[0;34m\u001b[0m\u001b[0m\n\u001b[1;32m     52\u001b[0m MB_mgp_bdi = MGP_BDI(\n",
      "\u001b[0;32m~/code/Visualization_wall_avoidance_results/Comparison_models.py\u001b[0m in \u001b[0;36mtest_results\u001b[0;34m(self, ID)\u001b[0m\n\u001b[1;32m     16\u001b[0m             dataset['test_results']).float() * 100\n\u001b[1;32m     17\u001b[0m         \u001b[0minterbal\u001b[0m \u001b[0;34m=\u001b[0m \u001b[0;36m5\u001b[0m\u001b[0;34m\u001b[0m\u001b[0;34m\u001b[0m\u001b[0m\n\u001b[0;32m---> 18\u001b[0;31m         self.success_rate['std'] = torch.stack(\n\u001b[0m\u001b[1;32m     19\u001b[0m             [results[i * interbal:i * interbal + interbal].mean() for i in range(int(results.shape[0] / interbal))]).std(unbiased=False)\n\u001b[1;32m     20\u001b[0m         \u001b[0mprint\u001b[0m\u001b[0;34m(\u001b[0m\u001b[0mdataset\u001b[0m\u001b[0;34m.\u001b[0m\u001b[0mkeys\u001b[0m\u001b[0;34m(\u001b[0m\u001b[0;34m)\u001b[0m\u001b[0;34m)\u001b[0m\u001b[0;34m\u001b[0m\u001b[0;34m\u001b[0m\u001b[0m\n",
      "\u001b[0;31mRuntimeError\u001b[0m: stack expects a non-empty TensorList"
     ]
    }
   ],
   "source": [
    "# OH\n",
    "OH_mhgp_bdi = MHGP_BDI(\n",
    "dir_path=\"/Users/hanbit-o/code/Visualization_wall_avoidance_results/Data/Result/ShaftInsertion/MHGP-BDI/1\")\n",
    "OH_mhgp_bdi.demo_results_v2(ID=\"5\")\n",
    "OH_mhgp_bdi.test_results(ID=\"5/20211213_185313\")\n",
    "\n",
    "OH_mgp_bdi = MGP_BDI(\n",
    "    dir_path=\"/Users/hanbit-o/code/Visualization_wall_avoidance_results/Data/Result/ShaftInsertion/20211223_BDI_shaft_insertion/Oh/20211223/OH_MGP-BDI/0\")\n",
    "OH_mgp_bdi.demo_results_v2(ID=\"1\")\n",
    "\n",
    "OH_mhgp_bc = MHGP_BC(\n",
    "dir_path=\"/Users/hanbit-o/code/Visualization_wall_avoidance_results/Data/Result/ShaftInsertion/MHGP-BC/1\")\n",
    "OH_mhgp_bc.demo_results_v2(ID=\"5\")\n",
    "OH_mhgp_bc.test_results(ID=\"5/20211213_184326\")\n",
    "\n",
    "# Sasaki\n",
    "SSK_mhgp_bdi = MHGP_BDI(\n",
    "    dir_path=\"/Users/hanbit-o/code/Visualization_wall_avoidance_results/Data/Result/ShaftInsertion/20211223_BDI_shaft_insertion/Sasaki/Sasaki_MHGP-BDI/0\")\n",
    "SSK_mhgp_bdi.demo_results_v2(ID=\"2\")\n",
    "SSK_mhgp_bdi.test_results(ID=\"2/20211218_150802\")\n",
    "\n",
    "SSK_mgp_bdi = MGP_BDI(\n",
    "    dir_path=\"/Users/hanbit-o/code/Visualization_wall_avoidance_results/Data/Result/ShaftInsertion/20211223_BDI_shaft_insertion/Sasaki/Sasaki_MGP-BDI/0\")\n",
    "SSK_mgp_bdi.demo_results_v2(ID=\"1\")\n",
    "\n",
    "SSK_mhgp_bc = MHGP_BC(\n",
    "dir_path=\"/Users/hanbit-o/code/Visualization_wall_avoidance_results/Data/Result/ShaftInsertion/20211223_BDI_shaft_insertion/Sasaki/Sasaki_MGP-BC/0\")\n",
    "SSK_mhgp_bc.demo_results_v2(ID=\"0\")\n",
    "SSK_mhgp_bc.test_results(ID=\"0/20211217_143955\")\n",
    "\n",
    "# Brendan\n",
    "BM_mhgp_bdi = MHGP_BDI(\n",
    "dir_path=\"/Users/hanbit-o/code/Visualization_wall_avoidance_results/Data/Result/ShaftInsertion/20211223_BDI_shaft_insertion/Brendan/Brendan_MHGP-BDI_trial4/0\")\n",
    "BM_mhgp_bdi.demo_results_v2(ID=\"2\")\n",
    "BM_mhgp_bdi.test_results(ID=\"2/20211222_151927\")\n",
    "\n",
    "BM_mgp_bdi = MGP_BDI(\n",
    "    dir_path=\"/Users/hanbit-o/code/Visualization_wall_avoidance_results/Data/Result/ShaftInsertion/20211223_BDI_shaft_insertion/Brendan/Brendan_MGP-BDI/0\")\n",
    "BM_mgp_bdi.demo_results_v2(ID=\"1\")\n",
    "\n",
    "BM_mhgp_bc = MHGP_BC(\n",
    "dir_path=\"/Users/hanbit-o/code/Visualization_wall_avoidance_results/Data/Result/ShaftInsertion/20211223_BDI_shaft_insertion/Brendan/Brendan_MGP-BC/0\")\n",
    "BM_mhgp_bc.demo_results_v2(ID=\"0\")\n",
    "BM_mhgp_bc.test_results(ID=\"0/20211220_145656\")\n",
    "\n",
    "# Matsubara\n",
    "MB_mhgp_bdi = MHGP_BDI(\n",
    "dir_path=\"/Users/hanbit-o/code/Visualization_wall_avoidance_results/Data/Result/ShaftInsertion/20211223_BDI_shaft_insertion/Matsubara/Matsubara_MHGP-BDI/0\")\n",
    "MB_mhgp_bdi.demo_results_v2(ID=\"2\")\n",
    "MB_mhgp_bdi.test_results(ID=\"2/20211224_115249\")\n",
    "\n",
    "MB_mgp_bdi = MGP_BDI(\n",
    "    dir_path=\"/Users/hanbit-o/code/Visualization_wall_avoidance_results/Data/Result/ShaftInsertion/20211223_BDI_shaft_insertion/Matsubara/Matsubara_MGP-BDI/0\")\n",
    "MB_mgp_bdi.demo_results_v2(ID=\"1\")\n",
    "\n",
    "MB_mhgp_bc = MHGP_BC(\n",
    "dir_path=\"/Users/hanbit-o/code/Visualization_wall_avoidance_results/Data/Result/ShaftInsertion/20211223_BDI_shaft_insertion/Matsubara/Matsubara_MGP-BC/0\")\n",
    "MB_mhgp_bc.demo_results_v2(ID=\"0\")\n",
    "MB_mhgp_bc.test_results(ID=\"0/20211224_145249\")"
   ]
  },
  {
   "cell_type": "code",
   "execution_count": 20,
   "metadata": {},
   "outputs": [
    {
     "ename": "RuntimeError",
     "evalue": "stack expects a non-empty TensorList",
     "output_type": "error",
     "traceback": [
      "\u001b[0;31m---------------------------------------------------------------------------\u001b[0m",
      "\u001b[0;31mRuntimeError\u001b[0m                              Traceback (most recent call last)",
      "\u001b[0;32m<ipython-input-20-8afbda9487b6>\u001b[0m in \u001b[0;36m<module>\u001b[0;34m\u001b[0m\n\u001b[0;32m----> 1\u001b[0;31m \u001b[0mMB_mhgp_bdi\u001b[0m\u001b[0;34m.\u001b[0m\u001b[0mtest_results\u001b[0m\u001b[0;34m(\u001b[0m\u001b[0mID\u001b[0m\u001b[0;34m=\u001b[0m\u001b[0;34m\"2/20211224_115249\"\u001b[0m\u001b[0;34m)\u001b[0m\u001b[0;34m\u001b[0m\u001b[0;34m\u001b[0m\u001b[0m\n\u001b[0m",
      "\u001b[0;32m~/code/Visualization_wall_avoidance_results/Comparison_models.py\u001b[0m in \u001b[0;36mtest_results\u001b[0;34m(self, ID)\u001b[0m\n\u001b[1;32m     16\u001b[0m             dataset['test_results']).float() * 100\n\u001b[1;32m     17\u001b[0m         \u001b[0minterbal\u001b[0m \u001b[0;34m=\u001b[0m \u001b[0;36m5\u001b[0m\u001b[0;34m\u001b[0m\u001b[0;34m\u001b[0m\u001b[0m\n\u001b[0;32m---> 18\u001b[0;31m         self.success_rate['std'] = torch.stack(\n\u001b[0m\u001b[1;32m     19\u001b[0m             [results[i * interbal:i * interbal + interbal].mean() for i in range(int(results.shape[0] / interbal))]).std(unbiased=False)\n\u001b[1;32m     20\u001b[0m         \u001b[0mprint\u001b[0m\u001b[0;34m(\u001b[0m\u001b[0mdataset\u001b[0m\u001b[0;34m.\u001b[0m\u001b[0mkeys\u001b[0m\u001b[0;34m(\u001b[0m\u001b[0;34m)\u001b[0m\u001b[0;34m)\u001b[0m\u001b[0;34m\u001b[0m\u001b[0;34m\u001b[0m\u001b[0m\n",
      "\u001b[0;31mRuntimeError\u001b[0m: stack expects a non-empty TensorList"
     ]
    }
   ],
   "source": [
    "MB_mhgp_bdi.test_results(ID=\"2/20211224_115249\")"
   ]
  },
  {
   "cell_type": "markdown",
   "metadata": {},
   "source": [
    "- Demonstration success rate"
   ]
  },
  {
   "cell_type": "code",
   "execution_count": 7,
   "metadata": {},
   "outputs": [
    {
     "name": "stdout",
     "output_type": "stream",
     "text": [
      "Oh\n",
      "{'mean': 100.0}\n",
      "{'mean': 10.0}\n",
      "{'mean': 100.0}\n",
      "Sasaki\n",
      "{'mean': 100.0}\n",
      "{'mean': 0.0}\n",
      "{'mean': 100.0}\n",
      "Brendan\n",
      "{'mean': 100.0}\n",
      "{'mean': 10.0}\n",
      "{'mean': 100.0}\n"
     ]
    }
   ],
   "source": [
    "print(\"Oh\")\n",
    "print(OH_mhgp_bc.demo_success_rate)\n",
    "print(OH_mgp_bdi.demo_success_rate)\n",
    "print(OH_mhgp_bdi.demo_success_rate)\n",
    "print(\"Sasaki\")\n",
    "print(SSK_mhgp_bc.demo_success_rate)\n",
    "print(SSK_mgp_bdi.demo_success_rate)\n",
    "print(SSK_mhgp_bdi.demo_success_rate)\n",
    "print(\"Brendan\")\n",
    "print(BM_mhgp_bc.demo_success_rate)\n",
    "print(BM_mgp_bdi.demo_success_rate)\n",
    "print(BM_mhgp_bdi.demo_success_rate)"
   ]
  },
  {
   "cell_type": "code",
   "execution_count": 10,
   "metadata": {},
   "outputs": [
    {
     "name": "stdout",
     "output_type": "stream",
     "text": [
      "MHGP-BDI Results: 100.0 +- 0.0\n",
      "MGP-BDI Results: 6.7 +- 5.8\n",
      "MGP-BC Results: 100.0 +- 0.0\n"
     ]
    }
   ],
   "source": [
    "# MHGP-BDI results\n",
    "MHGP_BDI_EXPERTS = [OH_mhgp_bdi, SSK_mhgp_bdi, BM_mhgp_bdi]\n",
    "MHGP_BDI_RESULTS = []\n",
    "for e in MHGP_BDI_EXPERTS:\n",
    "    MHGP_BDI_RESULTS += [e.demo_success_rate['mean']]\n",
    "MHGP_BDI_RESULTS = torch.tensor(MHGP_BDI_RESULTS)\n",
    "print(\"MHGP-BDI Results: {0:.1f} +- {1:.1f}\".format(MHGP_BDI_RESULTS.mean(),MHGP_BDI_RESULTS.std()))\n",
    "\n",
    "# MGP-BDI results\n",
    "MGP_BDI_EXPERTS = [OH_mgp_bdi, SSK_mgp_bdi, BM_mgp_bdi]\n",
    "MGP_BDI_RESULTS = []\n",
    "for e in MGP_BDI_EXPERTS:\n",
    "    MGP_BDI_RESULTS += [e.demo_success_rate['mean']]\n",
    "MGP_BDI_RESULTS = torch.tensor(MGP_BDI_RESULTS)\n",
    "print(\"MGP-BDI Results: {0:.1f} +- {1:.1f}\".format(MGP_BDI_RESULTS.mean(),MGP_BDI_RESULTS.std()))\n",
    "\n",
    "# MGP-BC results\n",
    "MGP_BC_EXPERTS = [OH_mhgp_bc, SSK_mhgp_bc, BM_mhgp_bc]\n",
    "MGP_BC_RESULTS = []\n",
    "for e in MGP_BC_EXPERTS:\n",
    "    MGP_BC_RESULTS += [e.demo_success_rate['mean']]\n",
    "MGP_BC_RESULTS = torch.tensor(MGP_BC_RESULTS)\n",
    "print(\"MGP-BC Results: {0:.1f} +- {1:.1f}\".format(MGP_BC_RESULTS.mean(),MGP_BC_RESULTS.std()))"
   ]
  },
  {
   "cell_type": "code",
   "execution_count": 14,
   "metadata": {},
   "outputs": [
    {
     "data": {
      "image/png": "[encoded data removed]",
      "text/plain": [
       "<Figure size 432x288 with 1 Axes>"
      ]
     },
     "metadata": {},
     "output_type": "display_data"
    }
   ],
   "source": [
    "ID = ID_generator().now_stamp()\n",
    "bar_mgp_bdi = plt.bar([\"MGP\"],[MGP_BDI_RESULTS.mean()],yerr=MGP_BDI_RESULTS.std(),capsize = 10,color=OH_mgp_bdi.color)\n",
    "bar_mhgp_bc = plt.bar([\"MGP-BC\"],[MGP_BC_RESULTS.mean()],yerr=MGP_BC_RESULTS.std(),capsize = 10,color=OH_mhgp_bc.color)\n",
    "bar_mhgp_bdi = plt.bar([\"MHGP-BDI\"],[MHGP_BDI_RESULTS.mean()],yerr=MHGP_BDI_RESULTS.std(),capsize = 10,color=OH_mhgp_bdi.color)\n",
    "plt.xticks(fontsize=0)\n",
    "plt.savefig(\"/Users/hanbit-o/code/Visualization_wall_avoidance_results/Figures/ShaftInsertion/Performance/\"+ID+\".pdf\")"
   ]
  },
  {
   "cell_type": "markdown",
   "metadata": {},
   "source": [
    "- policy execution"
   ]
  },
  {
   "cell_type": "code",
   "execution_count": 15,
   "metadata": {},
   "outputs": [
    {
     "name": "stdout",
     "output_type": "stream",
     "text": [
      "Oh\n",
      "{'mean': tensor(50.), 'std': tensor(30.)}\n",
      "{'mean': tensor(100.), 'std': tensor(0.)}\n",
      "Sasaki\n",
      "{'mean': tensor(30.), 'std': tensor(30.)}\n",
      "{'mean': tensor(90.), 'std': tensor(10.)}\n",
      "Brendan\n",
      "{'mean': tensor(60.), 'std': tensor(20.)}\n",
      "{'mean': tensor(100.), 'std': tensor(0.)}\n"
     ]
    }
   ],
   "source": [
    "print(\"Oh\")\n",
    "print(OH_mhgp_bc.success_rate)\n",
    "print(OH_mhgp_bdi.success_rate)\n",
    "print(\"Sasaki\")\n",
    "print(SSK_mhgp_bc.success_rate)\n",
    "print(SSK_mhgp_bdi.success_rate)\n",
    "print(\"Brendan\")\n",
    "print(BM_mhgp_bc.success_rate)\n",
    "print(BM_mhgp_bdi.success_rate)"
   ]
  },
  {
   "cell_type": "code",
   "execution_count": 16,
   "metadata": {},
   "outputs": [
    {
     "name": "stdout",
     "output_type": "stream",
     "text": [
      "MHGP-BDI Results: 96.7 +- 5.8\n",
      "MGP-BC Results: 46.7 +- 15.3\n"
     ]
    }
   ],
   "source": [
    "# MHGP-BDI results\n",
    "MHGP_BDI_EXPERTS = [OH_mhgp_bdi, SSK_mhgp_bdi, BM_mhgp_bdi]\n",
    "MHGP_BDI_RESULTS = []\n",
    "for e in MHGP_BDI_EXPERTS:\n",
    "    MHGP_BDI_RESULTS += [e.success_rate['mean']]\n",
    "MHGP_BDI_RESULTS = torch.tensor(MHGP_BDI_RESULTS)\n",
    "print(\"MHGP-BDI Results: {0:.1f} +- {1:.1f}\".format(MHGP_BDI_RESULTS.mean(),MHGP_BDI_RESULTS.std()))\n",
    "# MGP-BC results\n",
    "MGP_BC_EXPERTS = [OH_mhgp_bc, SSK_mhgp_bc, BM_mhgp_bc]\n",
    "MGP_BC_RESULTS = []\n",
    "for e in MGP_BC_EXPERTS:\n",
    "    MGP_BC_RESULTS += [e.success_rate['mean']]\n",
    "MGP_BC_RESULTS = torch.tensor(MGP_BC_RESULTS)\n",
    "print(\"MGP-BC Results: {0:.1f} +- {1:.1f}\".format(MGP_BC_RESULTS.mean(),MGP_BC_RESULTS.std()))"
   ]
  },
  {
   "cell_type": "code",
   "execution_count": 17,
   "metadata": {},
   "outputs": [
    {
     "name": "stderr",
     "output_type": "stream",
     "text": [
      "/Users/hanbit-o/.pyenv/versions/3.8.3/lib/python3.8/site-packages/numpy/lib/stride_tricks.py:536: FutureWarning: The input object of type 'Tensor' is an array-like implementing one of the corresponding protocols (`__array__`, `__array_interface__` or `__array_struct__`); but not a sequence (or 0-D). In the future, this object will be coerced as if it was first converted using `np.array(obj)`. To retain the old behaviour, you have to either modify the type 'Tensor', or assign to an empty array created with `np.empty(correct_shape, dtype=object)`.\n",
      "  args = [np.array(_m, copy=False, subok=subok) for _m in args]\n"
     ]
    },
    {
     "data": {
      "image/png": "[encoded data removed]",
      "text/plain": [
       "<Figure size 432x288 with 1 Axes>"
      ]
     },
     "metadata": {},
     "output_type": "display_data"
    }
   ],
   "source": [
    "ID = ID_generator().now_stamp()\n",
    "bar_mgp_bdi = plt.bar([\"MGP\"],[torch.zeros(1)],yerr=torch.zeros(1),capsize = 10,color=OH_mgp_bdi.color)\n",
    "bar_mhgp_bc = plt.bar([\"MGP-BC\"],[MGP_BC_RESULTS.mean()],yerr=MGP_BC_RESULTS.std(),capsize = 10,color=OH_mhgp_bc.color)\n",
    "bar_mhgp_bdi = plt.bar([\"MHGP-BDI\"],[MHGP_BDI_RESULTS.mean()],yerr=MHGP_BDI_RESULTS.std(),capsize = 10,color=OH_mhgp_bdi.color)\n",
    "plt.xticks(fontsize=0)\n",
    "plt.savefig(\"/Users/hanbit-o/code/Visualization_wall_avoidance_results/Figures/ShaftInsertion/Performance/\"+ID+\".pdf\")"
   ]
  },
  {
   "cell_type": "code",
   "execution_count": null,
   "metadata": {},
   "outputs": [],
   "source": []
  }
 ],
 "metadata": {
  "interpreter": {
   "hash": "b2ed33ca12bab59d7baca037903e818ec5b5d3097cc538ac3a6e8184f5eda77a"
  },
  "kernelspec": {
   "display_name": "Python 3.8.3 64-bit ('3.8.3')",
   "name": "python3"
  },
  "language_info": {
   "codemirror_mode": {
    "name": "ipython",
    "version": 3
   },
   "file_extension": ".py",
   "mimetype": "text/x-python",
   "name": "python",
   "nbconvert_exporter": "python",
   "pygments_lexer": "ipython3",
   "version": "3.8.3"
  },
  "orig_nbformat": 4
 },
 "nbformat": 4,
 "nbformat_minor": 2
}