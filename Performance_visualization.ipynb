{
 "cells": [
  {
   "cell_type": "markdown",
   "metadata": {},
   "source": [
    "# Test Performance"
   ]
  },
  {
   "cell_type": "code",
   "execution_count": 2,
   "metadata": {},
   "outputs": [],
   "source": [
    "import torch\n",
    "import matplotlib.pyplot as plt\n",
    "from Utils import ID_generator\n",
    "from Comparison_models import MGP_BDI, MHGP_BC, MHGP_BDI, UGP_BDI, UHGP_BC, UHGP_BDI\n",
    "plt.style.use(\"ggplot\")"
   ]
  },
  {
   "cell_type": "markdown",
   "metadata": {},
   "source": [
    "## SweepObjects"
   ]
  },
  {
   "cell_type": "code",
   "execution_count": 8,
   "metadata": {},
   "outputs": [
    {
     "name": "stdout",
     "output_type": "stream",
     "text": [
      "dict_keys(['test_results', 'success_rate', 'Trajectories'])\n",
      "dict_keys(['test_results', 'success_rate', 'Trajectories'])\n",
      "dict_keys(['test_results', 'success_rate', 'Trajectories'])\n",
      "dict_keys(['test_results', 'success_rate', 'Trajectories'])\n",
      "dict_keys(['test_results', 'success_rate', 'Trajectories'])\n",
      "dict_keys(['test_results', 'success_rate', 'Trajectories'])\n"
     ]
    }
   ],
   "source": [
    "mhgp_bdi = MHGP_BDI(\n",
    "dir_path=\"/Users/hanbit-o/code/Visualization_wall_avoidance_results/Data/Result/SweepObject/MHGP-BDI/0\")\n",
    "mhgp_bdi.test_results(ID=\"3/20210928_092541\")\n",
    "\n",
    "uhgp_bdi = UHGP_BDI(\n",
    "dir_path=\"/Users/hanbit-o/code/Visualization_wall_avoidance_results/Data/Result/SweepObject/UHGP-BDI/0\")\n",
    "uhgp_bdi.test_results(ID=\"3/20210928_10533\")\n",
    "\n",
    "mgp_bdi = MGP_BDI(\n",
    "    dir_path=\"/Users/hanbit-o/code/Visualization_wall_avoidance_results/Data/Result/SweepObject/MGP-BDI/0\")\n",
    "mgp_bdi.test_results(ID=\"3/20210825_154724\")\n",
    "\n",
    "ugp_bdi = UGP_BDI(\n",
    "    dir_path=\"/Users/hanbit-o/code/Visualization_wall_avoidance_results/Data/Result/SweepObject/UGP-BDI/0\")\n",
    "ugp_bdi.test_results(ID=\"3/20210927_150723\")\n",
    "\n",
    "mhgp_bc = MHGP_BC(\n",
    "    dir_path=\"/Users/hanbit-o/code/Visualization_wall_avoidance_results/Data/Result/SweepObject/MHGP-BC/0\")\n",
    "mhgp_bc.test_results(ID=\"3/20210825_150711\")\n",
    "\n",
    "uhgp_bc = UHGP_BC(\n",
    "    dir_path=\"/Users/hanbit-o/code/Visualization_wall_avoidance_results/Data/Result/SweepObject/UHGP-BC/0\")\n",
    "uhgp_bc.test_results(ID=\"3/20210928_153321\")"
   ]
  },
  {
   "cell_type": "code",
   "execution_count": 13,
   "metadata": {},
   "outputs": [
    {
     "name": "stdout",
     "output_type": "stream",
     "text": [
      "{'mean': tensor(100.), 'std': tensor(0.)}\n",
      "{'mean': tensor(0.), 'std': tensor(0.)}\n",
      "{'mean': tensor(100.), 'std': tensor(nan)}\n",
      "{'mean': tensor(0.), 'std': tensor(0.)}\n",
      "{'mean': tensor(50.), 'std': tensor(0.)}\n",
      "{'mean': tensor(0.), 'std': tensor(0.)}\n"
     ]
    }
   ],
   "source": [
    "print(mhgp_bdi.success_rate)\n",
    "print(uhgp_bdi.success_rate)\n",
    "print(mgp_bdi.success_rate)\n",
    "print(ugp_bdi.success_rate)\n",
    "print(mhgp_bc.success_rate)\n",
    "print(uhgp_bc.success_rate)"
   ]
  },
  {
   "cell_type": "code",
   "execution_count": 12,
   "metadata": {},
   "outputs": [
    {
     "name": "stderr",
     "output_type": "stream",
     "text": [
      "/Users/hanbit-o/.pyenv/versions/3.8.3/lib/python3.8/site-packages/numpy/core/_asarray.py:102: UserWarning: Warning: converting a masked element to nan.\n",
      "  return array(a, dtype, copy=False, order=order)\n"
     ]
    },
    {
     "data": {
      "image/png": "[encoded data removed]",
      "text/plain": [
       "<Figure size 432x288 with 1 Axes>"
      ]
     },
     "metadata": {},
     "output_type": "display_data"
    }
   ],
   "source": [
    "ID = ID_generator().now_stamp()\n",
    "bar_mgp_bdi = plt.bar([mgp_bdi.name],[mgp_bdi.success_rate['mean']],yerr=mgp_bdi.success_rate['std'],capsize = 10,color=mgp_bdi.color)\n",
    "bar_ugp_bdi = plt.bar([ugp_bdi.name],[ugp_bdi.success_rate['mean']],yerr=ugp_bdi.success_rate['std'],capsize = 10,color=ugp_bdi.color)\n",
    "bar_mhgp_bc = plt.bar([mhgp_bc.name],[mhgp_bc.success_rate['mean']],yerr=mhgp_bc.success_rate['std'],capsize = 10,color=mhgp_bc.color)\n",
    "bar_uhgp_bc = plt.bar([uhgp_bc.name],[uhgp_bc.success_rate['mean']],yerr=uhgp_bc.success_rate['std'],capsize = 10,color=uhgp_bc.color)\n",
    "bar_uhgp_bdi = plt.bar([uhgp_bdi.name],[uhgp_bdi.success_rate['mean']],yerr=uhgp_bdi.success_rate['std'],capsize = 10,color=uhgp_bdi.color)\n",
    "bar_mhgp_bdi = plt.bar([mhgp_bdi.name],[mhgp_bdi.success_rate['mean']],yerr=mhgp_bdi.success_rate['std'],capsize = 10,color=mhgp_bdi.color)\n",
    "plt.xticks(fontsize=0)\n",
    "plt.savefig(\"/Users/hanbit-o/code/Visualization_wall_avoidance_results/Figures/SweepObject/Performance/\"+ID+\".pdf\")"
   ]
  },
  {
   "cell_type": "markdown",
   "metadata": {},
   "source": [
    "## ObstacleAvoidance"
   ]
  },
  {
   "cell_type": "code",
   "execution_count": 19,
   "metadata": {},
   "outputs": [
    {
     "name": "stdout",
     "output_type": "stream",
     "text": [
      "dict_keys(['test_results', 'success_rate', 'Trajectories'])\n",
      "dict_keys(['test_results', 'success_rate', 'Trajectories'])\n"
     ]
    }
   ],
   "source": [
    "mhgp_bdi = MHGP_BDI(\n",
    "dir_path=\"/Users/hanbit-o/code/Visualization_wall_avoidance_results/Data/Result/ObstacleAvoidance/MHGP-BDI/0\")\n",
    "mhgp_bdi.test_results(ID=\"3/20210901_112038\")\n",
    "\n",
    "uhgp_bdi = UHGP_BDI(\n",
    "dir_path=\"/Users/hanbit-o/code/Visualization_wall_avoidance_results/Data/Result/ObstacleAvoidance/UHGP-BDI/0\")\n",
    "# uhgp_bdi.test_results(ID=\"2/20210829_130024\")\n",
    "\n",
    "mgp_bdi = MGP_BDI(\n",
    "    dir_path=\"/Users/hanbit-o/code/Visualization_wall_avoidance_results/Data/Result/ObstacleAvoidance/MGP-BDI/0\")\n",
    "# mgp_bdi.test_results(ID=\"3/20210825_154724\")\n",
    "\n",
    "ugp_bdi = UGP_BDI(\n",
    "    dir_path=\"/Users/hanbit-o/code/Visualization_wall_avoidance_results/Data/Result/ObstacleAvoidance/UGP-BDI/0\")\n",
    "# ugp_bdi.test_results(ID=\"3/20210927_150723\")\n",
    "\n",
    "mhgp_bc = MHGP_BC(\n",
    "    dir_path=\"/Users/hanbit-o/code/Visualization_wall_avoidance_results/Data/Result/ObstacleAvoidance/MHGP-BC/0\")\n",
    "mhgp_bc.test_results(ID=\"3/20210901_113538\")\n",
    "\n",
    "uhgp_bc = UHGP_BC(\n",
    "    dir_path=\"/Users/hanbit-o/code/Visualization_wall_avoidance_results/Data/Result/ObstacleAvoidance/UHGP-BC/0\")\n",
    "# uhgp_bc.test_results(ID=\"3/20210928_153321\")"
   ]
  },
  {
   "cell_type": "code",
   "execution_count": 20,
   "metadata": {},
   "outputs": [
    {
     "name": "stdout",
     "output_type": "stream",
     "text": [
      "{'mean': tensor(100.), 'std': tensor(0.)}\n",
      "{'mean': tensor(70.), 'std': tensor(14.1421)}\n"
     ]
    }
   ],
   "source": [
    "print(mhgp_bdi.success_rate)\n",
    "print(mhgp_bc.success_rate)"
   ]
  },
  {
   "cell_type": "code",
   "execution_count": 61,
   "metadata": {},
   "outputs": [
    {
     "name": "stderr",
     "output_type": "stream",
     "text": [
      "/Users/hanbit-o/.pyenv/versions/3.8.3/lib/python3.8/site-packages/numpy/lib/stride_tricks.py:536: FutureWarning: The input object of type 'Tensor' is an array-like implementing one of the corresponding protocols (`__array__`, `__array_interface__` or `__array_struct__`); but not a sequence (or 0-D). In the future, this object will be coerced as if it was first converted using `np.array(obj)`. To retain the old behaviour, you have to either modify the type 'Tensor', or assign to an empty array created with `np.empty(correct_shape, dtype=object)`.\n",
      "  args = [np.array(_m, copy=False, subok=subok) for _m in args]\n"
     ]
    },
    {
     "data": {
      "image/png": "[encoded data removed]",
      "text/plain": [
       "<Figure size 432x288 with 1 Axes>"
      ]
     },
     "metadata": {},
     "output_type": "display_data"
    }
   ],
   "source": [
    "ID = ID_generator().now_stamp()\n",
    "bar_mgp_bdi = plt.bar([\"MGP\"],[torch.zeros(1)],yerr=torch.zeros(1),capsize = 10,color=\"navy\")\n",
    "bar_mhgp_bc = plt.bar([mhgp_bc.name],[mhgp_bc.success_rate['mean']],yerr=mhgp_bc.success_rate['std'],capsize = 10,color=mhgp_bc.color)\n",
    "bar_mhgp_bdi = plt.bar([mhgp_bdi.name],[mhgp_bdi.success_rate['mean']],yerr=mhgp_bdi.success_rate['std'],capsize = 10,color=mhgp_bdi.color)\n",
    "plt.xticks(fontsize=0)\n",
    "plt.savefig(\"/Users/hanbit-o/code/Visualization_wall_avoidance_results/Figures/Obstacle_Avoidance/Performance/\"+ID+\".pdf\")"
   ]
  },
  {
   "cell_type": "markdown",
   "metadata": {},
   "source": [
    "## ShaftInsertion"
   ]
  },
  {
   "cell_type": "code",
   "execution_count": 14,
   "metadata": {},
   "outputs": [
    {
     "name": "stdout",
     "output_type": "stream",
     "text": [
      "dict_keys(['test_results', 'success_rate', 'Trajectories'])\n",
      "dict_keys(['test_results', 'success_rate', 'Trajectories'])\n",
      "dict_keys(['test_results', 'success_rate', 'Trajectories'])\n"
     ]
    }
   ],
   "source": [
    "mhgp_bdi = MHGP_BDI(\n",
    "dir_path=\"/Users/hanbit-o/code/Visualization_wall_avoidance_results/Data/Result/ShaftInsertion/MHGP-BDI/0\")\n",
    "mhgp_bdi.test_results(ID=\"5/20210831_185113\")\n",
    "\n",
    "uhgp_bdi = UHGP_BDI(\n",
    "dir_path=\"/Users/hanbit-o/code/Visualization_wall_avoidance_results/Data/Result/ShaftInsertion/UHGP-BDI/0\")\n",
    "uhgp_bdi.test_results(ID=\"5/20210831_185935\")\n",
    "\n",
    "mgp_bdi = MGP_BDI(\n",
    "    dir_path=\"/Users/hanbit-o/code/Visualization_wall_avoidance_results/Data/Result/ShaftInsertion/MGP-BDI/0\")\n",
    "# mgp_bdi.test_results(ID=\"3/20210825_154724\")\n",
    "\n",
    "ugp_bdi = UGP_BDI(\n",
    "    dir_path=\"/Users/hanbit-o/code/Visualization_wall_avoidance_results/Data/Result/ShaftInsertion/UGP-BDI/0\")\n",
    "# ugp_bdi.test_results(ID=\"3/20210927_150723\")\n",
    "\n",
    "mhgp_bc = MHGP_BC(\n",
    "    dir_path=\"/Users/hanbit-o/code/Visualization_wall_avoidance_results/Data/Result/ShaftInsertion/MHGP-BC/0\")\n",
    "mhgp_bc.test_results(ID=\"5/20210831_184520\")\n",
    "\n",
    "uhgp_bc = UHGP_BC(\n",
    "    dir_path=\"/Users/hanbit-o/code/Visualization_wall_avoidance_results/Data/Result/ShaftInsertion/UHGP-BC/0\")\n",
    "# uhgp_bc.test_results(ID=\"3/20210928_153321\")"
   ]
  },
  {
   "cell_type": "code",
   "execution_count": 15,
   "metadata": {},
   "outputs": [
    {
     "name": "stdout",
     "output_type": "stream",
     "text": [
      "{'mean': tensor(100.), 'std': tensor(0.)}\n",
      "{'mean': tensor(0.), 'std': tensor(nan)}\n",
      "{'mean': tensor(70.), 'std': tensor(14.1421)}\n"
     ]
    }
   ],
   "source": [
    "print(mhgp_bdi.success_rate)\n",
    "print(uhgp_bdi.success_rate)\n",
    "# print(mgp_bdi.success_rate)\n",
    "# print(ugp_bdi.success_rate)\n",
    "print(mhgp_bc.success_rate)\n",
    "# print(uhgp_bc.success_rate)"
   ]
  },
  {
   "cell_type": "code",
   "execution_count": 64,
   "metadata": {},
   "outputs": [
    {
     "name": "stderr",
     "output_type": "stream",
     "text": [
      "/Users/hanbit-o/.pyenv/versions/3.8.3/lib/python3.8/site-packages/numpy/lib/stride_tricks.py:536: FutureWarning: The input object of type 'Tensor' is an array-like implementing one of the corresponding protocols (`__array__`, `__array_interface__` or `__array_struct__`); but not a sequence (or 0-D). In the future, this object will be coerced as if it was first converted using `np.array(obj)`. To retain the old behaviour, you have to either modify the type 'Tensor', or assign to an empty array created with `np.empty(correct_shape, dtype=object)`.\n",
      "  args = [np.array(_m, copy=False, subok=subok) for _m in args]\n"
     ]
    },
    {
     "data": {
      "image/png": "[encoded data removed]",
      "text/plain": [
       "<Figure size 432x288 with 1 Axes>"
      ]
     },
     "metadata": {},
     "output_type": "display_data"
    }
   ],
   "source": [
    "ID = ID_generator().now_stamp()\n",
    "bar_mgp_bdi = plt.bar([\"MGP\"],[torch.zeros(1)],yerr=torch.zeros(1),capsize = 10,color=\"navy\")\n",
    "bar_mhgp_bc = plt.bar([mhgp_bc.name],[mhgp_bc.success_rate['mean']],yerr=mhgp_bc.success_rate['std'],capsize = 10,color=mhgp_bc.color)\n",
    "bar_mhgp_bdi = plt.bar([mhgp_bdi.name],[mhgp_bdi.success_rate['mean']],yerr=mhgp_bdi.success_rate['std'],capsize = 10,color=mhgp_bdi.color)\n",
    "plt.xticks(fontsize=0)\n",
    "plt.savefig(\"/Users/hanbit-o/code/Visualization_wall_avoidance_results/Figures/ShaftInsertion/Performance/\"+ID+\".pdf\")"
   ]
  }
 ],
 "metadata": {
  "interpreter": {
   "hash": "b2ed33ca12bab59d7baca037903e818ec5b5d3097cc538ac3a6e8184f5eda77a"
  },
  "kernelspec": {
   "display_name": "Python 3.8.3 64-bit ('3.8.3': pyenv)",
   "name": "python3"
  },
  "language_info": {
   "codemirror_mode": {
    "name": "ipython",
    "version": 3
   },
   "file_extension": ".py",
   "mimetype": "text/x-python",
   "name": "python",
   "nbconvert_exporter": "python",
   "pygments_lexer": "ipython3",
   "version": "3.8.3"
  },
  "orig_nbformat": 4
 },
 "nbformat": 4,
 "nbformat_minor": 2
}